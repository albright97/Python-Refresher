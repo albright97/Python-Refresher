{
 "cells": [
  {
   "cell_type": "code",
   "execution_count": 1,
   "id": "f6f759fd-cae8-4446-bcf9-2c69829e910d",
   "metadata": {},
   "outputs": [
    {
     "name": "stdout",
     "output_type": "stream",
     "text": [
      "The sum of 5 and 7 is 12\n"
     ]
    }
   ],
   "source": [
    "def add_numbers(a, b):\n",
    "    \"\"\"\n",
    "    This function takes two numbers as input and returns their sum.\n",
    "    \"\"\"\n",
    "    return a + b\n",
    "\n",
    "# Example usage\n",
    "num1 = 5\n",
    "num2 = 7\n",
    "\n",
    "result = add_numbers(num1, num2)\n",
    "print(f\"The sum of {num1} and {num2} is {result}\")\n"
   ]
  },
  {
   "cell_type": "code",
   "execution_count": 2,
   "id": "de407807-e7d3-4435-81d9-ad21760660fd",
   "metadata": {},
   "outputs": [
    {
     "name": "stdout",
     "output_type": "stream",
     "text": [
      "The absolute value of -15 is 15\n"
     ]
    }
   ],
   "source": [
    "# Function to return the absolute value of a number\n",
    "def absolute_value(number):\n",
    "    return abs(number)\n",
    "\n",
    "# Example usage\n",
    "num = -15\n",
    "result = absolute_value(num)\n",
    "print(f\"The absolute value of {num} is {result}\")\n"
   ]
  },
  {
   "cell_type": "code",
   "execution_count": 3,
   "id": "8658bd6c-718b-42f9-8d14-3a6abb0e43fe",
   "metadata": {},
   "outputs": [
    {
     "name": "stdout",
     "output_type": "stream",
     "text": [
      "Help on built-in function abs in module builtins:\n",
      "\n",
      "abs(x, /)\n",
      "    Return the absolute value of the argument.\n",
      "\n"
     ]
    }
   ],
   "source": [
    "# Example usage of the help function\n",
    "def show_help_for_abs():\n",
    "    help(abs)\n",
    "\n",
    "# Call the function to display the help information\n",
    "show_help_for_abs()\n"
   ]
  },
  {
   "cell_type": "code",
   "execution_count": 4,
   "id": "d4027c46-204f-462d-86a7-8a3157ea9126",
   "metadata": {},
   "outputs": [
    {
     "name": "stdout",
     "output_type": "stream",
     "text": [
      "The result of the expression '2 + 3 * 5' is: 17\n"
     ]
    }
   ],
   "source": [
    "# Define a string containing a Python expression\n",
    "expression = \"2 + 3 * 5\"\n",
    "\n",
    "# Use eval to evaluate the expression\n",
    "result = eval(expression)\n",
    "\n",
    "# Print the result\n",
    "print(\"The result of the expression '{}' is: {}\".format(expression, result))\n"
   ]
  },
  {
   "cell_type": "code",
   "execution_count": 5,
   "id": "f78a1602-1a97-4bb6-8dfd-6d4822ce28b9",
   "metadata": {},
   "outputs": [
    {
     "name": "stdout",
     "output_type": "stream",
     "text": [
      "Hello, Alice!\n"
     ]
    }
   ],
   "source": [
    "# Define a string containing a Python code block\n",
    "code_block = \"\"\"\n",
    "def greet(name):\n",
    "    print(\"Hello, \" + name + \"!\")\n",
    "\n",
    "greet(\"Alice\")\n",
    "\"\"\"\n",
    "\n",
    "# Use exec to execute the code block\n",
    "exec(code_block)\n"
   ]
  },
  {
   "cell_type": "code",
   "execution_count": 7,
   "id": "9540edbd-9c89-499a-9a22-737915b279ee",
   "metadata": {},
   "outputs": [],
   "source": [
    "def calculate_factorial(number):\n",
    "    if number == 0 or number == 1:\n",
    "        return 1\n",
    "    else:\n",
    "        return number * calculate_factorial(number - 1)\n"
   ]
  },
  {
   "cell_type": "code",
   "execution_count": 8,
   "id": "a1b14698-28eb-44ab-8fb5-e28e83b0826b",
   "metadata": {},
   "outputs": [],
   "source": [
    "def calculate_factorial(number):\n",
    "    factorial = 1\n",
    "    if number < 0:\n",
    "        return \"Factorial is not defined for negative numbers\"\n",
    "    elif number == 0:\n",
    "        return 1\n",
    "    else:\n",
    "        for i in range(1, number + 1):\n",
    "            factorial *= i\n",
    "        return factorial\n"
   ]
  },
  {
   "cell_type": "code",
   "execution_count": null,
   "id": "d7728598-0f94-4641-b175-b2efa532ec6d",
   "metadata": {},
   "outputs": [],
   "source": []
  }
 ],
 "metadata": {
  "kernelspec": {
   "display_name": "Python 3 (ipykernel)",
   "language": "python",
   "name": "python3"
  },
  "language_info": {
   "codemirror_mode": {
    "name": "ipython",
    "version": 3
   },
   "file_extension": ".py",
   "mimetype": "text/x-python",
   "name": "python",
   "nbconvert_exporter": "python",
   "pygments_lexer": "ipython3",
   "version": "3.11.7"
  }
 },
 "nbformat": 4,
 "nbformat_minor": 5
}
